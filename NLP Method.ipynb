{
 "cells": [
  {
   "cell_type": "code",
   "execution_count": null,
   "metadata": {},
   "outputs": [],
   "source": [
    "import spacy\n",
    "import scispacy\n",
    "from scispacy.linking import EntityLinker\n",
    "from negspacy.negation import Negex\n",
    "from negspacy.termsets import termset\n",
    "ts = termset(\"en_clinical_sensitive\")\n",
    "ts.add_patterns({\n",
    "            \"preceding_negations\": [\"whether this is primarily\"],\n",
    "            \"preceding_negations\": [\"risk for developing\"],\n",
    "            \"preceding_negations\": [\"-no\"],\n",
    "            \"preceding_negations\": [\"practice guidelines on the management of nonproliferative and\"],\n",
    "            \"following_negations\": [\"presence unspecified\"],\n",
    "        })\n",
    "import json\n",
    "import pandas as pd\n",
    "import re\n",
    "import nltk\n",
    "from nltk.corpus import stopwords\n",
    "from nltk.stem import WordNetLemmatizer\n",
    "import numpy as np\n",
    "import string\n",
    "from nltk.tokenize import RegexpTokenizer\n",
    "from dateutil import parser\n",
    "from sklearn.metrics import (\n",
    "    accuracy_score, precision_score, recall_score,\n",
    "    f1_score, confusion_matrix\n",
    ")"
   ]
  },
  {
   "cell_type": "markdown",
   "metadata": {},
   "source": [
    "## NLP"
   ]
  },
  {
   "cell_type": "code",
   "execution_count": 2,
   "metadata": {},
   "outputs": [
    {
     "data": {
      "text/plain": [
       "<negspacy.negation.Negex at 0x10692dd30>"
      ]
     },
     "execution_count": 2,
     "metadata": {},
     "output_type": "execute_result"
    }
   ],
   "source": [
    "nlp = spacy.load(\"en_ner_bc5cdr_md\")\n",
    "\n",
    "nlp.add_pipe(\n",
    "    \"negex\",\n",
    "    last=True,\n",
    ")"
   ]
  },
  {
   "cell_type": "code",
   "execution_count": 3,
   "metadata": {},
   "outputs": [],
   "source": [
    "# Construction via add_pipe\n",
    "ruler = nlp.add_pipe(\"entity_ruler\", before =\"ner\")\n",
    "patterns = [{\"label\": \"DISEASE\", \"pattern\": \"proliferative diabetic retinopathy\"},\n",
    "            {\"label\": \"DISEASE\", \"pattern\": \"proliferative retinopathy\"}]\n",
    "ruler.add_patterns(patterns)"
   ]
  },
  {
   "cell_type": "code",
   "execution_count": null,
   "metadata": {},
   "outputs": [],
   "source": [
    "df = pd.read_csv(\"~/thesis/uncleaned_notes.csv\")  \n",
    "def extract_ap_section(note):\n",
    "    if not isinstance(note, str):\n",
    "        return ''\n",
    "    \n",
    "    match = re.search(r'(Assessment and Plan|A/P|Plan)[:\\-]?\\s*(.+?)(?=\\n[A-Z][^\\n]*?:|\\Z)', \n",
    "                      note, re.IGNORECASE | re.DOTALL)\n",
    "    if match:\n",
    "        ap_text = match.group(2).strip()\n",
    "        if len(ap_text) < 15 or ap_text.lower() in ['assessment and plan', 'a/p', 'plan']:\n",
    "            return ''\n",
    "        return ap_text\n",
    "    return ''\n",
    "\n",
    "\n",
    "df['ap_section'] = df['note_text'].apply(extract_ap_section)\n",
    "valid_ap_df = df[df['ap_section'].str.strip() != '']\n",
    "num_patients = valid_ap_df['PatientDurableKey'].nunique()\n",
    "print(f\"Patients with valid A/P sections: {num_patients}\")\n",
    "valid_ap_df[['PatientDurableKey', 'note_text', 'ap_section']].to_csv(\"valid_ap_sections1.csv\", index=False)"
   ]
  },
  {
   "cell_type": "code",
   "execution_count": 42,
   "metadata": {},
   "outputs": [],
   "source": [
    "### xl['note'] refers to the column in your dataframe that consists of clinical notes\n",
    "xl = pd.read_csv(\"/Users/ritikabatte02/Downloads/pdr_AP_notes.csv\")"
   ]
  },
  {
   "cell_type": "code",
   "execution_count": null,
   "metadata": {},
   "outputs": [],
   "source": [
    "all_patients = xl['PatientDurableKey'].unique()\n",
    "print(\"Total unique patients in full dataset:\", len(all_patients))"
   ]
  },
  {
   "cell_type": "code",
   "execution_count": 47,
   "metadata": {},
   "outputs": [],
   "source": [
    "xl['pdr'] = None\n",
    "xl['pdr_binary'] = None\n",
    "\n",
    "for x in xl.index:\n",
    "    a = nlp(xl['assessment_plan_text'][x])\n",
    "    df = pd.DataFrame(columns=['tokens', 'negex'])\n",
    "    tokens = []\n",
    "    negex = []\n",
    "    label = []\n",
    "\n",
    "    for e in a.ents:\n",
    "        tokens.append([e.text])\n",
    "        negex.append([e._.negex])\n",
    "        label.append([e.label_])\n",
    "    df['tokens'] = tokens\n",
    "    df['negex'] = negex\n",
    "    df['label'] = label\n",
    "\n",
    "    df['tokens'] = df['tokens'].astype(str).apply(lambda x: x[2:-2])\n",
    "    df['negex'] = df['negex'].astype(str).apply(lambda x: x[1:-1])\n",
    "    df['label'] = df['label'].astype(str).apply(lambda x: x[2:-2])\n",
    "\n",
    "    searchfor = ['DISEASE']\n",
    "    dis = df[df.label.str.contains('|'.join(searchfor))]\n",
    "\n",
    "    searchfor_pdr = [r'\\bproliferative retinopathy\\b', r'\\bproliferative diabetic retinopathy\\b', r'\\bPDR\\b']\n",
    "    pdr = dis[dis.tokens.str.contains('|'.join(searchfor_pdr))].copy()\n",
    "\n",
    "    pdr = pdr[~pdr['tokens'].str.contains(r'\\b(?:mild|moderate|non[\\s-]?proliferative)\\b', case=False, regex=True)]\n",
    "\n",
    "    pdr.loc[:, 'PDR'] = np.where(pdr['negex'].str.contains(\"False\"), 1, 0)\n",
    "\n",
    "    if 1 in pdr['PDR'].values:\n",
    "        xl.loc[x, 'pdr_name'] = 'PDR'\n",
    "        xl.loc[x, 'pdr_binary'] = 1\n",
    "    else:\n",
    "        xl.loc[x, 'pdr_name'] = 'No PDR'\n",
    "        xl.loc[x, 'pdr_binary'] = 0"
   ]
  },
  {
   "cell_type": "code",
   "execution_count": null,
   "metadata": {},
   "outputs": [],
   "source": [
    "# Functions\n",
    "\n",
    "def extract_date_from_text(text):\n",
    "    date_pattern = r'(\\d{4}-\\d{2}-\\d{2})|(\\d{1,2}/\\d{1,2}/\\d{2,4})|(\\b(?:Jan|Feb|Mar|Apr|May|Jun|Jul|Aug|Sep|Oct|Nov|Dec)[a-z]*[\\s\\-]?\\d{1,2},?[\\s\\-]?\\d{4})'\n",
    "\n",
    "    dates = re.findall(date_pattern, text)\n",
    "    extracted = []\n",
    "\n",
    "    for group in dates:\n",
    "        for date_str in group:\n",
    "            if date_str:\n",
    "                try:\n",
    "                    parsed_date = parser.parse(date_str, fuzzy=True)\n",
    "                    extracted.append(parsed_date)\n",
    "                except ValueError:\n",
    "                    continue\n",
    "\n",
    "    return extracted\n",
    "\n",
    "def get_pdr_date_by_proximity(note_text):\n",
    "    doc = nlp(note_text)\n",
    "    text = doc.text.lower()\n",
    "\n",
    "    pdr_terms = ['proliferative diabetic retinopathy', 'proliferative retinopathy', 'pdr']\n",
    "    pdr_positions = [text.find(term) for term in pdr_terms if term in text]\n",
    "    pdr_positions = [pos for pos in pdr_positions if pos != -1]\n",
    "    if not pdr_positions:\n",
    "        return None\n",
    "\n",
    "    date_positions = []\n",
    "    date_regex = re.finditer(\n",
    "        r'\\d{4}-\\d{2}-\\d{2}|\\d{1,2}/\\d{1,2}/\\d{2,4}|\\b(?:Jan|Feb|Mar|Apr|May|Jun|Jul|Aug|Sep|Oct|Nov|Dec)[a-z]*[\\s\\-]\\d{1,2},?[\\s\\-]?\\d{4}',\n",
    "        text)\n",
    "    for match in date_regex:\n",
    "        date_str = match.group()\n",
    "        try:\n",
    "            parsed_date = parser.parse(date_str, fuzzy=True)\n",
    "            date_positions.append((parsed_date, match.start()))\n",
    "        except:\n",
    "            continue\n",
    "\n",
    "    if not date_positions:\n",
    "        return None\n",
    "\n",
    "    min_dist = float('inf')\n",
    "    closest_date = None\n",
    "    for pdx in pdr_positions:\n",
    "        for date, didx in date_positions:\n",
    "            dist = abs(pdx - didx)\n",
    "            if dist < min_dist:\n",
    "                min_dist = dist\n",
    "                closest_date = date\n",
    "\n",
    "    return closest_date"
   ]
  },
  {
   "cell_type": "code",
   "execution_count": null,
   "metadata": {},
   "outputs": [],
   "source": [
    "pdr_dates = []\n",
    "\n",
    "for patient_id, group in xl.groupby('PatientDurableKey'):\n",
    "    patient_has_pdr = group['pdr_binary'].max() == 1 \n",
    "    patient_dates = []\n",
    "\n",
    "    if patient_has_pdr:\n",
    "        for note in group['assessment_plan_text']:\n",
    "            date = get_pdr_date_by_proximity(note)\n",
    "            if date:\n",
    "                patient_dates.append(date)\n",
    "\n",
    "        if patient_dates:\n",
    "            earliest = min(patient_dates)\n",
    "        else:\n",
    "            earliest = pd.NaT  \n",
    "    else:\n",
    "        earliest = pd.NaT  \n",
    "\n",
    "    pdr_dates.append({'PatientDurableKey': patient_id, 'pdr_dates': earliest})\n"
   ]
  },
  {
   "cell_type": "code",
   "execution_count": 58,
   "metadata": {},
   "outputs": [],
   "source": [
    "pdr_date_df = pd.DataFrame(pdr_dates)\n",
    "\n",
    "xl = xl.drop(columns=[col for col in xl.columns if 'pdr_date' in col], errors='ignore')\n",
    "\n",
    "xl = xl.merge(pdr_date_df, on=\"PatientDurableKey\", how=\"left\")"
   ]
  },
  {
   "cell_type": "code",
   "execution_count": 59,
   "metadata": {},
   "outputs": [],
   "source": [
    "xl.to_csv('pdr_nlp_notes.csv', index=False)"
   ]
  },
  {
   "cell_type": "code",
   "execution_count": 60,
   "metadata": {},
   "outputs": [],
   "source": [
    "summary = xl.groupby('PatientDurableKey').agg({\n",
    "    'pdr_binary': 'max',\n",
    "    'pdr_dates': 'first'\n",
    "}).reset_index()\n",
    "\n",
    "summary.to_csv('pdr_summary.csv', index=False)"
   ]
  }
 ],
 "metadata": {
  "kernelspec": {
   "display_name": "myenv",
   "language": "python",
   "name": "python3"
  },
  "language_info": {
   "codemirror_mode": {
    "name": "ipython",
    "version": 3
   },
   "file_extension": ".py",
   "mimetype": "text/x-python",
   "name": "python",
   "nbconvert_exporter": "python",
   "pygments_lexer": "ipython3",
   "version": "3.9.18"
  }
 },
 "nbformat": 4,
 "nbformat_minor": 4
}
